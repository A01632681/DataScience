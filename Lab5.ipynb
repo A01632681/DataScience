{
 "cells": [
  {
   "cell_type": "code",
   "execution_count": 46,
   "metadata": {},
   "outputs": [],
   "source": [
    "import matplotlib.pyplot as plt\n",
    "import pandas as pd\n",
    "import seaborn as sns\n",
    "import numpy as np\n",
    "from sklearn.model_selection import train_test_split\n",
    "from sklearn.linear_model import LinearRegression\n",
    "from sklearn.linear_model import LogisticRegression\n",
    "from econml.metalearners import XLearner\n",
    "import math"
   ]
  },
  {
   "cell_type": "code",
   "execution_count": 55,
   "metadata": {},
   "outputs": [],
   "source": [
    "def get_ps_weights(clf, x, t):\n",
    "    ti = np.squeeze(t)\n",
    "    clf.fit(x, ti)\n",
    "    ptx = clf.predict_proba(x).T[1].T + 0.0001 # add a small value to avoid dividing by 0\n",
    "    # Given ti and ptx values, compute the weights wi\n",
    "    wi = (ti / ptx) + ((1.0 - ti) / (1.0 - ptx))\n",
    "    return wi\n",
    "\n",
    "def individual_effect(y0_array, y1_array):\n",
    "    ## Your code goes here\n",
    "    return y1_array - y0_array\n",
    "\n",
    "def average_effect(y0_array, y1_array):\n",
    "    ## Your code goes here\n",
    "    return np.mean(y1_array - y0_array)\n",
    "\n",
    "def abs_ate(effect_true, effect_pred):\n",
    "    # 1. Obtain true ATE by getting the mean of true ITEs.\n",
    "    # 2. Obtain predicted ATE by getting the mean of predicted ITEs.\n",
    "    # 3. Calculate the difference between the true and predicted ATEs.\n",
    "    # 4. Calculate the absolute value of the difference obtained in the previous step.\n",
    "    # Hint: Keep your code concise (this can be done in one line of code).\n",
    "    ## Your code goes here\n",
    "    return abs(np.mean(effect_true)-np.mean(effect_pred))\n",
    "\n",
    "def pehe(effect_true, effect_pred):\n",
    "    # 1. Obtain the difference between the true and predicted ITEs.\n",
    "    # 2. Square the result (power of 2).\n",
    "    # 3. Take the mean.\n",
    "    # 4. Take the square root.\n",
    "    # Hint: Keep your code concise (this can be done in one line of code).\n",
    "    ## Your code goes here\n",
    "    return np.sqrt(np.mean((effect_pred-effect_true)**2))"
   ]
  },
  {
   "cell_type": "code",
   "execution_count": 48,
   "metadata": {},
   "outputs": [],
   "source": [
    "df = pd.read_csv('https://raw.githubusercontent.com/dmachlanski/CE888_2023/main/lab5/ihdp.csv')\n",
    "df = df.drop('ycf', axis = 1)\n",
    "X = df.iloc[:,0:25]\n",
    "Y = df.iloc[:,-2]\n",
    "T = df.iloc[:,-3]\n",
    "ITE = df.iloc[:,-1]"
   ]
  },
  {
   "cell_type": "code",
   "execution_count": 49,
   "metadata": {},
   "outputs": [],
   "source": [
    "x_train, x_test, y_train, y_test, t_train, t_test = train_test_split(X, Y, T, test_size=0.20, shuffle=True)"
   ]
  },
  {
   "cell_type": "code",
   "execution_count": 50,
   "metadata": {},
   "outputs": [],
   "source": [
    "lr = LinearRegression()\n",
    "x_concat = np.c_[x_train, t_train]"
   ]
  },
  {
   "cell_type": "code",
   "execution_count": 56,
   "metadata": {},
   "outputs": [],
   "source": [
    "lr.fit(x_concat, y_train)\n",
    "y0_pred = lr.predict(np.c_[x_test, np.zeros_like(t_test)])\n",
    "y1_pred = lr.predict(np.c_[x_test, np.ones_like(t_test)])\n",
    "s_pred = y1_pred - y0_pred"
   ]
  },
  {
   "cell_type": "code",
   "execution_count": 57,
   "metadata": {},
   "outputs": [],
   "source": [
    "clf = LogisticRegression()\n",
    "weights = get_ps_weights(clf, x_train, t_train)\n",
    "lr.fit(x_concat, y_train, sample_weight=weights)\n",
    "y0_wpred = lr.predict(np.c_[x_test, np.zeros_like(t_test)])\n",
    "y1_wpred = lr.predict(np.c_[x_test, np.ones_like(t_test)])\n",
    "w_pred = y1_wpred - y0_wpred"
   ]
  },
  {
   "cell_type": "code",
   "execution_count": 62,
   "metadata": {},
   "outputs": [],
   "source": [
    "est = XLearner(models=lr)\n",
    "est.fit(y_train, t_train, X=x_train)\n",
    "y0_xpred = lr.predict(np.c_[x_test, np.zeros_like(t_test)])\n",
    "y1_xpred = lr.predict(np.c_[x_test, np.ones_like(t_test)])\n",
    "#est.effect(X[:3])\n",
    "xl_pred = est.effect(x_test)"
   ]
  },
  {
   "cell_type": "code",
   "execution_count": 70,
   "metadata": {},
   "outputs": [],
   "source": [
    "s_val=0\n",
    "w_val=0\n",
    "xl_val=0\n",
    "for i in range(len(s_pred)):\n",
    "    s_val += s_pred[i]\n",
    "    w_val += w_pred[i]\n",
    "    xl_val += xl_pred[i]\n",
    "ate_s = w_val/len(w_pred)\n",
    "ate_w = w_val/len(w_pred)\n",
    "ate_xl = xl_val/len(xl_pred)\n",
    "\n",
    "pehe_s = np.sqrt(np.mean((s_pred)**2))\n",
    "pehe_w = np.sqrt(np.mean((w_pred)**2))\n",
    "pehe_xl = np.sqrt(np.mean((xl_pred)**2))"
   ]
  },
  {
   "cell_type": "code",
   "execution_count": 74,
   "metadata": {},
   "outputs": [
    {
     "name": "stdout",
     "output_type": "stream",
     "text": [
      "XL\n",
      "3.806943618572935 3.869883504385941 3.9778997373427125\n",
      "XL\n",
      "3.86988350438594 3.86988350438594 3.8911677516890464\n"
     ]
    }
   ],
   "source": [
    "if (pehe_s >= pehe_w) and (pehe_s >= pehe_xl):\n",
    "    better = 'S'\n",
    "elif (pehe_w >= pehe_s) and (pehe_w >= pehe_xl):\n",
    "    better = 'W'\n",
    "elif (pehe_xl >= pehe_s) and (pehe_xl >= pehe_w):\n",
    "    better = 'XL'\n",
    "\n",
    "print(better)\n",
    "print(pehe_s,pehe_w,pehe_xl)\n",
    "\n",
    "if (ate_s >= ate_w) and (ate_s >= ate_xl):\n",
    "    better = 'S'\n",
    "elif (ate_w >= ate_s) and (ate_w >= ate_xl):\n",
    "    better = 'W'\n",
    "elif (ate_xl >= ate_s) and (ate_xl >= ate_w):\n",
    "    better = 'XL'\n",
    "\n",
    "print(better)\n",
    "print(ate_s,ate_w,ate_xl)"
   ]
  }
 ],
 "metadata": {
  "kernelspec": {
   "display_name": "Python 3",
   "language": "python",
   "name": "python3"
  },
  "language_info": {
   "codemirror_mode": {
    "name": "ipython",
    "version": 3
   },
   "file_extension": ".py",
   "mimetype": "text/x-python",
   "name": "python",
   "nbconvert_exporter": "python",
   "pygments_lexer": "ipython3",
   "version": "3.10.10"
  },
  "orig_nbformat": 4,
  "vscode": {
   "interpreter": {
    "hash": "da41a09902426c17f8b1259e92b559cedcb2a26624b80b6e2df84a72ad457b4e"
   }
  }
 },
 "nbformat": 4,
 "nbformat_minor": 2
}
